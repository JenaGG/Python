{
 "cells": [
  {
   "cell_type": "markdown",
   "metadata": {},
   "source": [
    "<font color=Green>\n",
    "    \n",
    "# **8.3 Polimorfismo**\n",
    "</font>\n",
    "\n",
    "### El polimorfismo es una propiedad de la herencia que permite que objetos de distintas clases puedan responder a la misma acción/llamada\n",
    "### En Python todas las clases son polimórficas por defecto ya que todas las clases son subclases de una superclase llamada Object"
   ]
  },
  {
   "cell_type": "code",
   "execution_count": null,
   "metadata": {},
   "outputs": [],
   "source": [
    "class Producto:\n",
    "    def __init__(self, ref, nombre, pvp,  descripcion):\n",
    "        self.ref = ref\n",
    "        self.nombre = nombre\n",
    "        self.pvp = pvp\n",
    "        self.descripcion = descripcion\n",
    "                \n",
    "    def __str__(self):\n",
    "        return f\"Referencia:\\t {self.ref}\\n\" \\\n",
    "               f\"Nombre:\\t\\t {self.nombre}\\n\" \\\n",
    "               f\"PVP:\\t\\t {self.pvp}\\n\" \\\n",
    "               f\"Descripción:\\t {self.descripcion}\\n\"\n",
    "    \n",
    "class Combo(Producto):\n",
    "    pass\n",
    "\n",
    "class Ropa(Producto):\n",
    "    marca = \"\"\n",
    "    categoria = \"\"\n",
    "    talla = \"\"\n",
    "    \n",
    "    def __str__(self):\n",
    "            return f\"Referencia:\\t {self.ref}\\n\" \\\n",
    "                   f\"Nombre:\\t\\t {self.nombre}\\n\" \\\n",
    "                   f\"PVP:\\t\\t {self.pvp}\\n\" \\\n",
    "                   f\"Descripción:\\t {self.descripcion}\\n\" \\\n",
    "                   f\"Marca:\\t\\t {self.marca}\\n\" \\\n",
    "                   f\"Categoria:\\t {self.categoria}\\n\" \\\n",
    "                   f\"Talla:\\t\\t {self.talla}\\n\"\n",
    "\n",
    "\n",
    "class Alimento(Producto):\n",
    "    marca = \"\"\n",
    "    categoria = \"\"\n",
    "\n",
    "    def __str__(self):\n",
    "            return f\"Referencia:\\t {self.ref}\\n\" \\\n",
    "                   f\"Nombre:\\t\\t {self.nombre}\\n\" \\\n",
    "                   f\"PVP:\\t\\t {self.pvp}\\n\" \\\n",
    "                   f\"Descripción:\\t {self.descripcion}\\n\" \\\n",
    "                   f\"Marca:\\t\\t {self.marca} \\n\" \\\n",
    "                   f\"Categoria:\\t {self.categoria}\\n\""
   ]
  },
  {
   "cell_type": "code",
   "execution_count": null,
   "metadata": {},
   "outputs": [],
   "source": [
    "combo_1 = Combo('70010','Combo 1',150,'Harina de maíz (1Kg), Carne de res (2Kg), Detergente para ropa (500g)')\n",
    "\n",
    "pant_1 =Ropa(\"20001\", \"Pantalón\",200,\"Stretch Color rojo\")\n",
    "pant_1.marca =\"Levi's\"\n",
    "pant_1.categoria = \"Dama\"\n",
    "pant_1.talla = 30\n",
    "\n",
    "harina = Alimento(10001, \"Harina de Maíz\", 30, \"Harina precocida (1kg)\")\n",
    "harina.marca = \"Nestlé\"\n",
    "harina.categoria = \"Cereales\"\n"
   ]
  },
  {
   "cell_type": "code",
   "execution_count": null,
   "metadata": {},
   "outputs": [],
   "source": [
    "productos = [combo_1, harina]"
   ]
  },
  {
   "cell_type": "code",
   "execution_count": null,
   "metadata": {},
   "outputs": [],
   "source": [
    "productos.append(pant_1)"
   ]
  },
  {
   "cell_type": "code",
   "execution_count": null,
   "metadata": {},
   "outputs": [],
   "source": [
    "productos"
   ]
  },
  {
   "cell_type": "code",
   "execution_count": null,
   "metadata": {},
   "outputs": [],
   "source": [
    "for p in productos:\n",
    "    print(p.ref,p.nombre)"
   ]
  },
  {
   "cell_type": "code",
   "execution_count": null,
   "metadata": {},
   "outputs": [],
   "source": [
    "for p in productos:\n",
    "    print(p.marca)"
   ]
  },
  {
   "cell_type": "code",
   "execution_count": null,
   "metadata": {},
   "outputs": [],
   "source": [
    "isinstance(combo_1,int)"
   ]
  },
  {
   "cell_type": "code",
   "execution_count": null,
   "metadata": {},
   "outputs": [],
   "source": [
    "for p in productos:\n",
    "    if ( isinstance(p,Combo) ):\n",
    "        print(p.ref,p.nombre)\n",
    "    elif (isinstance(p,Ropa)):\n",
    "        print(p.ref,p.nombre,p.talla)\n",
    "    elif (isinstance(p,Alimento)):\n",
    "        print(p.ref,p.nombre,p.marca)"
   ]
  },
  {
   "cell_type": "code",
   "execution_count": null,
   "metadata": {},
   "outputs": [],
   "source": [
    "def descuento(p, rebaja): #Función que devuelve un producto con un descuento en su precio\n",
    "    p.pvp = p.pvp - (p.pvp*(rebaja/100))\n",
    "    return p\n",
    "\n",
    "pantalon_desc = descuento(pant_1, 20)\n",
    "print(pantalon_desc)"
   ]
  },
  {
   "cell_type": "code",
   "execution_count": null,
   "metadata": {},
   "outputs": [],
   "source": [
    "print(pant_1)\n",
    "print(pantalon_desc)"
   ]
  },
  {
   "cell_type": "code",
   "execution_count": null,
   "metadata": {},
   "outputs": [],
   "source": [
    "copia_pant = pant_1"
   ]
  },
  {
   "cell_type": "code",
   "execution_count": null,
   "metadata": {},
   "outputs": [],
   "source": [
    "copia_pant.marca = \"Nike\""
   ]
  },
  {
   "cell_type": "code",
   "execution_count": null,
   "metadata": {},
   "outputs": [],
   "source": [
    "print(pant_1)\n",
    "print(copia_pant)"
   ]
  },
  {
   "cell_type": "markdown",
   "metadata": {},
   "source": [
    "<font color=#003d5c>\n",
    "\n",
    "# _Módulo copy_\n",
    "</font>"
   ]
  },
  {
   "cell_type": "code",
   "execution_count": null,
   "metadata": {},
   "outputs": [],
   "source": [
    "import copy\n",
    "\n",
    "copia_pant = copy.copy(pant_1)\n",
    "print(copia_pant)"
   ]
  },
  {
   "cell_type": "code",
   "execution_count": null,
   "metadata": {},
   "outputs": [],
   "source": [
    "copia_pant.pvp=500\n",
    "print(copia_pant)\n",
    "print(pant_1)"
   ]
  },
  {
   "cell_type": "code",
   "execution_count": null,
   "metadata": {},
   "outputs": [],
   "source": []
  }
 ],
 "metadata": {
  "kernelspec": {
   "display_name": "Python 3",
   "language": "python",
   "name": "python3"
  },
  "language_info": {
   "codemirror_mode": {
    "name": "ipython",
    "version": 3
   },
   "file_extension": ".py",
   "mimetype": "text/x-python",
   "name": "python",
   "nbconvert_exporter": "python",
   "pygments_lexer": "ipython3",
   "version": "3.7.6"
  }
 },
 "nbformat": 4,
 "nbformat_minor": 4
}
