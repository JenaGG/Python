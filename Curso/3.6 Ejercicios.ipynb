{
 "cells": [
  {
   "cell_type": "markdown",
   "metadata": {},
   "source": [
    "<font color=Green>\n",
    "    \n",
    "# **3.6 Ejercicios**\n",
    "</font>\n",
    "\n",
    "### 1) ¿Puedes identificar el error en el siguiente código?\n",
    "> media = num_1 + num_2 + num_3 / 3\n",
    "\n",
    "### Se pretende hacer una media muestral de 3 elementos pero no funciona correctamente"
   ]
  },
  {
   "cell_type": "code",
   "execution_count": null,
   "metadata": {},
   "outputs": [],
   "source": [
    "num_1 = 4\n",
    "num_2 = 3\n",
    "num_3 = 3\n",
    "\n",
    "media = num_1 + num_2 + num_3 / 3;\n",
    "\n",
    "print('El promedio es ', media);"
   ]
  },
  {
   "cell_type": "markdown",
   "metadata": {},
   "source": [
    "###  2) En la siguiente matriz, el cuarto elemento siempre es la suma de los tres anteriores. Utilizando la indexación corrige las listas que no cumplan esta condición."
   ]
  },
  {
   "cell_type": "code",
   "execution_count": null,
   "metadata": {},
   "outputs": [],
   "source": [
    "matriz= [\n",
    "    [1,1,1,3],\n",
    "    [2,2,2,7],\n",
    "    [3,3,3,9], \n",
    "    [4,4,4,13]\n",
    "];\n",
    "\n",
    "matriz;"
   ]
  },
  {
   "cell_type": "code",
   "execution_count": null,
   "metadata": {},
   "outputs": [],
   "source": [
    "#    Modificamos la primera fila\n",
    "\n",
    "matriz[1][-1] = sum( matriz[1][:-1])"
   ]
  },
  {
   "cell_type": "code",
   "execution_count": null,
   "metadata": {},
   "outputs": [],
   "source": [
    "#    Modificamos la última fila\n",
    "\n",
    "matriz[-1][-1] = sum( matriz[-1][:-1] )"
   ]
  },
  {
   "cell_type": "markdown",
   "metadata": {},
   "source": [
    "### 3) En el desarrollo de un videojuego se te encarga configurar y balancear cada clase de personaje. Partiendo de que la estadística base es 2, debes cumplir las siguientes condiciones:\n",
    "+ El caballero tiene el doble de vida y defensa que un guerrero.\n",
    "+ El guerrero tiene el doble de ataque y alcance que un caballero.\n",
    "+ El arquero tiene la misma vida y ataque que un guerrero, pero la mitad de su defensa y el doble de su alcance.\n",
    "+ Muestra como quedan las propiedades de los tres personajes.\n",
    "\n",
    ">caballero = { 'vida':2, 'ataque':2, 'defensa': 2, 'alcance':2 }\\\n",
    ">guerrero  = { 'vida':2, 'ataque':2, 'defensa': 2, 'alcance':2 }\\\n",
    ">arquero   = { 'vida':2, 'ataque':2, 'defensa': 2, 'alcance':2 }\n"
   ]
  },
  {
   "cell_type": "code",
   "execution_count": null,
   "metadata": {},
   "outputs": [],
   "source": []
  }
 ],
 "metadata": {
  "kernelspec": {
   "display_name": "Python 3",
   "language": "python",
   "name": "python3"
  },
  "language_info": {
   "codemirror_mode": {
    "name": "ipython",
    "version": 3
   },
   "file_extension": ".py",
   "mimetype": "text/x-python",
   "name": "python",
   "nbconvert_exporter": "python",
   "pygments_lexer": "ipython3",
   "version": "3.7.6"
  }
 },
 "nbformat": 4,
 "nbformat_minor": 4
}
