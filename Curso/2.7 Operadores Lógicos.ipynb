{
 "cells": [
  {
   "cell_type": "markdown",
   "metadata": {},
   "source": [
    "<font color=Green>\n",
    "    \n",
    "# 2.7 Operadores lógicos\n",
    "</font>\n",
    "\n",
    "###   Los operadores lógicos siguen las reglas de la lógica proposicional\n",
    "<font color=#003d5c>\n",
    "    \n",
    "### A) AND\n",
    "</font>"
   ]
  },
  {
   "cell_type": "code",
   "execution_count": null,
   "metadata": {},
   "outputs": [],
   "source": [
    "True and False"
   ]
  },
  {
   "cell_type": "code",
   "execution_count": null,
   "metadata": {},
   "outputs": [],
   "source": [
    "True and True"
   ]
  },
  {
   "cell_type": "code",
   "execution_count": null,
   "metadata": {},
   "outputs": [],
   "source": [
    "False and False"
   ]
  },
  {
   "cell_type": "markdown",
   "metadata": {},
   "source": [
    "<font color=#003d5c>\n",
    "    \n",
    "### B) OR\n",
    "</font>"
   ]
  },
  {
   "cell_type": "code",
   "execution_count": null,
   "metadata": {},
   "outputs": [],
   "source": [
    "True or False"
   ]
  },
  {
   "cell_type": "code",
   "execution_count": null,
   "metadata": {},
   "outputs": [],
   "source": [
    "True or True"
   ]
  },
  {
   "cell_type": "code",
   "execution_count": null,
   "metadata": {},
   "outputs": [],
   "source": [
    "False or False"
   ]
  },
  {
   "cell_type": "markdown",
   "metadata": {},
   "source": [
    "<font color=#003d5c>\n",
    "    \n",
    "### C) NOT ****\n",
    "</font>"
   ]
  },
  {
   "cell_type": "code",
   "execution_count": null,
   "metadata": {},
   "outputs": [],
   "source": [
    "not True"
   ]
  },
  {
   "cell_type": "code",
   "execution_count": null,
   "metadata": {},
   "outputs": [],
   "source": [
    "not False"
   ]
  },
  {
   "cell_type": "markdown",
   "metadata": {},
   "source": [
    "<font color=#003d5c>\n",
    "    \n",
    "## _Operadores de comparación_ </font>\n",
    "\n",
    "> [ __== ; != ; < ; > ; >= ; <=__]\n",
    "\n",
    "### Para probar igualdad usamos el operador =="
   ]
  },
  {
   "cell_type": "code",
   "execution_count": null,
   "metadata": {},
   "outputs": [],
   "source": [
    "print(\"¿Se cumple que 2 == 2?\\n\", 2 == 3)"
   ]
  },
  {
   "cell_type": "markdown",
   "metadata": {},
   "source": [
    "### Para probar desigualdad se usa el operador !="
   ]
  },
  {
   "cell_type": "code",
   "execution_count": null,
   "metadata": {},
   "outputs": [],
   "source": [
    "print(\"¿Se cumple que 2 != 2? \\n\", 2 != 3)"
   ]
  },
  {
   "cell_type": "markdown",
   "metadata": {},
   "source": [
    "### Para comparar magnitudes usamos <, >, >=, <="
   ]
  },
  {
   "cell_type": "code",
   "execution_count": null,
   "metadata": {},
   "outputs": [],
   "source": [
    "print(\"¿Se cumple que 2 > 3\\n\", 2 > 3)\n",
    "\n",
    "print(\"¿Se cumple que 2 < 3\\n\", 2 < 3)\n",
    "\n",
    "print(\"¿Se cumple que 2 <= 3\\n\",2 <= 3)\n",
    "\n",
    "print(\"¿Se cumple que 2 >= 3\\n\", 2 >= 3)"
   ]
  },
  {
   "cell_type": "markdown",
   "metadata": {},
   "source": [
    "### Los operadores básicos de comparación (<, <=, >, >=, ==, !=) también aplican a las cadenas de caracteres. Para compararlas siguen el estándard ASCII.\n",
    "\n",
    "<img src=\"data:image/png;base64,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\">"
   ]
  },
  {
   "cell_type": "code",
   "execution_count": null,
   "metadata": {},
   "outputs": [],
   "source": [
    "print(\"c\" > \"d\", \"\\n\", 'c' > 'b')"
   ]
  },
  {
   "cell_type": "code",
   "execution_count": null,
   "metadata": {},
   "outputs": [],
   "source": [
    "print(\"casa\"> \"perro\") # Si empezamos a contar desde la A: La C tiene un valor de 3 mientras que la P tiene un valor de 16"
   ]
  },
  {
   "cell_type": "code",
   "execution_count": null,
   "metadata": {},
   "outputs": [],
   "source": [
    "print(\"casa\">\"cabra\")"
   ]
  },
  {
   "cell_type": "code",
   "execution_count": null,
   "metadata": {},
   "outputs": [],
   "source": []
  }
 ],
 "metadata": {
  "kernelspec": {
   "display_name": "Python 3",
   "language": "python",
   "name": "python3"
  },
  "language_info": {
   "codemirror_mode": {
    "name": "ipython",
    "version": 3
   },
   "file_extension": ".py",
   "mimetype": "text/x-python",
   "name": "python",
   "nbconvert_exporter": "python",
   "pygments_lexer": "ipython3",
   "version": "3.7.6"
  }
 },
 "nbformat": 4,
 "nbformat_minor": 4
}
