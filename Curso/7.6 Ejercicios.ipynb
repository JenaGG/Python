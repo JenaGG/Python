{
 "cells": [
  {
   "cell_type": "markdown",
   "metadata": {},
   "source": [
    "<font color=Green>\n",
    "    \n",
    "# **7.6 Ejercicios**\n",
    "\n",
    "</font>\n",
    "\n",
    "### Crea una clase llamada _Punto_ con sus dos coordenadas X y Y.\n",
    "+ Añade un método constructor para crear puntos, si no se recibe una coordenada, su valor será cero.\n",
    "+ Redefine el método string para que al imprimir por pantalla el punto aparezca en formato (X,Y)\n",
    "+ Define el método Cuadrante que indique a qué cuadrante pertenece el punto: \n",
    "<img src=\"https://robertoramirezblog.weebly.com/uploads/8/7/2/9/87295088/e70d9bdcdcab6e673b2c0356a02bdf6f_orig.jpg\">\n",
    "+ Define el método Vector, cuyos parámetros sean otro par de coordenadas y que calcule el vector que une los dos puntos.\n",
    "<img src=\"https://encrypted-tbn0.gstatic.com/images?q=tbn%3AANd9GcQGsL80EM7IlKq2eMT8Y98Niw8WvV14l54aag&usqp=CAU\">\n",
    "+ Define el método Distancia, cuyos parámetros sean otro par de coordenadas y que calcule la distancia entre los dos puntos y la muestre por pantalla. \n",
    "<img src=\"https://www.matesfacil.com/BAC/geometria2D/puntos/t6.png\">\n",
    "\n",
    "<font color=#003d5c>\n",
    "  \n",
    "> PROTIP: En Python, la función raíz cuadrada se debe importar del módulo math y se llama sqrt().\n",
    "</font>\n",
    "    "
   ]
  },
  {
   "cell_type": "code",
   "execution_count": null,
   "metadata": {},
   "outputs": [],
   "source": [
    "import math\n",
    "\n",
    "class Punto:\n",
    "\n",
    "    def __init__(self,x=0,y=0):\n",
    "        self.x = x\n",
    "        self.y = y\n",
    "\n",
    "    def __str__(self):\n",
    "        return f\"({self.x}, {self.y})\"\n",
    "\n",
    "    def cuadrante(self):\n",
    "        if self.x > 0 and self.y > 0:\n",
    "            print(f\"{self} pertenece al primer cuadrante\")\n",
    "        elif self.x < 0 and self.y > 0:\n",
    "            print(f\"{self} pertenece al segundo cuadrante\")\n",
    "        elif self.x < 0 and self.y < 0:\n",
    "            print(f\"{self} pertenece al tercer cuadrante\")\n",
    "        elif self.x > 0 and self.y < 0:\n",
    "            print(f\"{self} pertenece al cuarto cuadrante\")\n",
    "            \n",
    "        # Si Y == 0, el punto se ubica sobre el eje X\n",
    "        elif self.x != 0 and self.y == 0:\n",
    "            print(f\"{self} se ubica sobre el eje X\")\n",
    "            \n",
    "        # Si X == 0, el punto se ubica sobre el eje Y    \n",
    "        elif self.x == 0 and self.y != 0:\n",
    "            print(f\"{self} se ubica sobre el eje Y\")\n",
    "            \n",
    "        # Si ambos son 0, el punto se ubica en el origen   \n",
    "        else:\n",
    "            print(f\"{self} se ubica en el origen\")\n",
    "\n",
    "    def vector(self, p):\n",
    "        print(f\"El vector que une los puntos {self} y {p} es igual a ({p.x-self.x}, {p.y-self.y})\")\n",
    "\n",
    "    def distancia(self, p):\n",
    "        mod = math.sqrt( (p.x - self.x)**2 + (p.y - self.y)**2 )\n",
    "        print(f\"La distancia entre los puntos {self} y {p} es {mod}\")"
   ]
  },
  {
   "cell_type": "code",
   "execution_count": null,
   "metadata": {},
   "outputs": [],
   "source": [
    "a = Punto(5,8)\n",
    "b = Punto(10,2)\n",
    "c = Punto(0,0)"
   ]
  },
  {
   "cell_type": "code",
   "execution_count": null,
   "metadata": {},
   "outputs": [],
   "source": [
    "str(c)"
   ]
  },
  {
   "cell_type": "code",
   "execution_count": null,
   "metadata": {},
   "outputs": [],
   "source": [
    "d=Punto(-8,4)\n",
    "d.cuadrante()"
   ]
  },
  {
   "cell_type": "code",
   "execution_count": null,
   "metadata": {},
   "outputs": [],
   "source": [
    "c.cuadrante()"
   ]
  },
  {
   "cell_type": "code",
   "execution_count": null,
   "metadata": {},
   "outputs": [],
   "source": [
    "a.vector(d)"
   ]
  },
  {
   "cell_type": "code",
   "execution_count": null,
   "metadata": {},
   "outputs": [],
   "source": [
    "a.distancia(d)"
   ]
  },
  {
   "cell_type": "markdown",
   "metadata": {},
   "source": [
    "### Crea una clase llamada _Rectangulo_ con dos puntos (inicial y final) que formarán la diagonal del rectángulo.\n",
    "+ Añade un método constructor para crear ambos puntos fácilmente, si no se envían se crearán dos puntos en el origen por defecto.\n",
    "+ Añade al rectángulo un método llamado Mostrar_base que muestre la base.\n",
    "+ Añade al rectángulo un método llamado Mostrar_altura que muestre la altura.\n",
    "+ Añade al rectángulo un método llamado Mostrar_area que muestre el area."
   ]
  },
  {
   "cell_type": "code",
   "execution_count": null,
   "metadata": {},
   "outputs": [],
   "source": [
    "class Rectangulo:\n",
    "\n",
    "    def __init__(self, inicio=Punto(0,0), final=Punto(0,0)):\n",
    "        self.inicio = inicio\n",
    "        self.final = final\n",
    "        self.base = abs(self.final.x - self.inicio.x)\n",
    "        self.altura = abs(self.final.y - self.inicio.y)\n",
    "        self.area = self.base * self.altura\n",
    "\n",
    "    def mostrar_base(self):\n",
    "        print(f\"La base del rectángulo es {self.base}\")\n",
    "\n",
    "    def mostrar_altura(self):\n",
    "        print(f\"La altura del rectángulo es {self.altura}\")\n",
    "\n",
    "    def mostrar_area(self):\n",
    "        print(f\"El área del rectángulo es {self.area}\")"
   ]
  },
  {
   "cell_type": "code",
   "execution_count": null,
   "metadata": {},
   "outputs": [],
   "source": [
    "rec = Rectangulo(a,c)"
   ]
  },
  {
   "cell_type": "code",
   "execution_count": null,
   "metadata": {},
   "outputs": [],
   "source": [
    "rec.mostrar_area()"
   ]
  },
  {
   "cell_type": "code",
   "execution_count": null,
   "metadata": {},
   "outputs": [],
   "source": [
    "rec.mostrar_altura()"
   ]
  },
  {
   "cell_type": "code",
   "execution_count": null,
   "metadata": {},
   "outputs": [],
   "source": [
    "rec.mostrar_base()"
   ]
  },
  {
   "cell_type": "code",
   "execution_count": null,
   "metadata": {},
   "outputs": [],
   "source": []
  }
 ],
 "metadata": {
  "kernelspec": {
   "display_name": "Python 3",
   "language": "python",
   "name": "python3"
  },
  "language_info": {
   "codemirror_mode": {
    "name": "ipython",
    "version": 3
   },
   "file_extension": ".py",
   "mimetype": "text/x-python",
   "name": "python",
   "nbconvert_exporter": "python",
   "pygments_lexer": "ipython3",
   "version": "3.7.6"
  }
 },
 "nbformat": 4,
 "nbformat_minor": 4
}
