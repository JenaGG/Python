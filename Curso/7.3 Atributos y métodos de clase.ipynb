{
 "cells": [
  {
   "cell_type": "markdown",
   "metadata": {},
   "source": [
    "<font color=Green>\n",
    "    \n",
    "# **7.3 Atributos y métodos de clase**\n",
    "\n",
    "</font>\n",
    "\n",
    "### Aunque los objetos salgan del mismo molde (clase), no todos los objetos son iguales. \n",
    "### Un objeto se diferencia de otros objetos de su misma clase por el valor de sus atributos"
   ]
  },
  {
   "cell_type": "code",
   "execution_count": null,
   "metadata": {},
   "outputs": [],
   "source": [
    "class Torta:\n",
    "    pass\n",
    "\n",
    "torta_fresa = Torta()"
   ]
  },
  {
   "cell_type": "code",
   "execution_count": null,
   "metadata": {},
   "outputs": [],
   "source": [
    "torta_fresa"
   ]
  },
  {
   "cell_type": "markdown",
   "metadata": {},
   "source": [
    "### Podemos asignarle atributos al objeto luego de su creación."
   ]
  },
  {
   "cell_type": "code",
   "execution_count": null,
   "metadata": {},
   "outputs": [],
   "source": [
    "torta_fresa.sabor = \"Fresa\"\n",
    "torta_fresa.color = \"Rosado\""
   ]
  },
  {
   "cell_type": "code",
   "execution_count": null,
   "metadata": {},
   "outputs": [],
   "source": [
    "torta_fresa.sabor"
   ]
  },
  {
   "cell_type": "code",
   "execution_count": null,
   "metadata": {},
   "outputs": [],
   "source": [
    "f'El sabor de la torta es {torta_fresa.sabor}'"
   ]
  },
  {
   "cell_type": "markdown",
   "metadata": {},
   "source": [
    "### También podemos definir internamente los atributos de clase, y asignarle un valor por defecto que compartirán todas las instancias."
   ]
  },
  {
   "cell_type": "code",
   "execution_count": null,
   "metadata": {},
   "outputs": [],
   "source": [
    "class Torta:\n",
    "    chocolate = False"
   ]
  },
  {
   "cell_type": "code",
   "execution_count": null,
   "metadata": {},
   "outputs": [],
   "source": [
    "torta_2 = Torta()\n",
    "torta_2.chocolate"
   ]
  },
  {
   "cell_type": "code",
   "execution_count": null,
   "metadata": {},
   "outputs": [],
   "source": [
    "torta_2.chocolate = True\n",
    "torta_2.chocolate"
   ]
  },
  {
   "cell_type": "markdown",
   "metadata": {},
   "source": [
    "<font color=#003d5c>\n",
    "\n",
    "## El método _INIT_ y el término _self_\n",
    "</font>\n",
    "\n",
    "+ _init_ (método constructor) se ejecuta al crear un objeto: Permite enviarle argumentos al objeto durante la instanciación.\n",
    "+ _self_ hace referencia al propio objeto: Sirve para diferenciar el ámbito de clase y el de un método."
   ]
  },
  {
   "cell_type": "code",
   "execution_count": null,
   "metadata": {},
   "outputs": [],
   "source": [
    "class Torta():\n",
    "    glaseado = False\n",
    "    \n",
    "    def __init__(self):\n",
    "        print('Se creó una torta.')\n",
    "        \n",
    "t = Torta()\n",
    "        "
   ]
  },
  {
   "cell_type": "code",
   "execution_count": null,
   "metadata": {},
   "outputs": [],
   "source": [
    "class Torta():\n",
    "    glaseado = False\n",
    "    \n",
    "    def __init__(self):\n",
    "        print('Se creó una torta.')\n",
    "    \n",
    "    def glasear(self):\n",
    "        self.glaseado = True\n",
    "        \n",
    "t = Torta()\n",
    "t.glaseado\n",
    "        "
   ]
  },
  {
   "cell_type": "code",
   "execution_count": null,
   "metadata": {},
   "outputs": [],
   "source": [
    "t.glasear()\n",
    "t.glaseado"
   ]
  },
  {
   "cell_type": "code",
   "execution_count": null,
   "metadata": {},
   "outputs": [],
   "source": [
    "class Torta():\n",
    "    glaseado = False\n",
    "    \n",
    "    def __init__(self):\n",
    "        print('Se creó una torta.')\n",
    "    \n",
    "    def glasear(self):\n",
    "        self.glaseado = True\n",
    "        \n",
    "    def esta_glaseada(self):\n",
    "        if (self.glaseado):\n",
    "            print('Soy una torta glaseada')\n",
    "        else:\n",
    "            print('Soy una torta sencilla sin glaseado')"
   ]
  },
  {
   "cell_type": "code",
   "execution_count": null,
   "metadata": {},
   "outputs": [],
   "source": [
    "t = Torta()"
   ]
  },
  {
   "cell_type": "code",
   "execution_count": null,
   "metadata": {},
   "outputs": [],
   "source": [
    "t.esta_glaseada()"
   ]
  },
  {
   "cell_type": "code",
   "execution_count": null,
   "metadata": {},
   "outputs": [],
   "source": [
    "t.glasear()"
   ]
  },
  {
   "cell_type": "code",
   "execution_count": null,
   "metadata": {},
   "outputs": [],
   "source": [
    "t.esta_glaseada()"
   ]
  },
  {
   "cell_type": "code",
   "execution_count": null,
   "metadata": {},
   "outputs": [],
   "source": [
    "class Torta():\n",
    "    glaseado = False\n",
    "    \n",
    "    def __init__(self,sabor,color):\n",
    "        self.sabor = sabor\n",
    "        self.color = color\n",
    "        print(f'Se acaba de crear una torta de {sabor} {color}.')\n",
    "    \n",
    "    def glasear(self):\n",
    "        self.glaseado = True\n",
    "        \n",
    "    def esta_glaseada(self):\n",
    "        if (self.glaseado):\n",
    "            print(f'Soy una torta de {self.sabor} glaseada')\n",
    "        else:\n",
    "            print(f'Soy una torta de {self.sabor} sin glaseado')"
   ]
  },
  {
   "cell_type": "code",
   "execution_count": null,
   "metadata": {},
   "outputs": [],
   "source": [
    "o = Torta('Fresa','Morada')"
   ]
  },
  {
   "cell_type": "code",
   "execution_count": null,
   "metadata": {},
   "outputs": [],
   "source": [
    "o.color"
   ]
  },
  {
   "cell_type": "code",
   "execution_count": null,
   "metadata": {},
   "outputs": [],
   "source": [
    "o.esta_glaseada()"
   ]
  },
  {
   "cell_type": "code",
   "execution_count": null,
   "metadata": {},
   "outputs": [],
   "source": [
    "o.glasear()\n",
    "o.esta_glaseada()"
   ]
  },
  {
   "cell_type": "code",
   "execution_count": null,
   "metadata": {},
   "outputs": [],
   "source": [
    "m = Torta()"
   ]
  },
  {
   "cell_type": "code",
   "execution_count": null,
   "metadata": {},
   "outputs": [],
   "source": [
    "class Torta():\n",
    "    glaseado = False\n",
    "    \n",
    "    def __init__(self,sabor=None,color=None):\n",
    "        self.sabor = sabor\n",
    "        self.color = color\n",
    "        print(f'Se creó una torta de {sabor} {color}.')\n",
    "            \n",
    "    def glasear(self):\n",
    "        self.glaseado = True\n",
    "      \n",
    "    def esta_glaseada(self):\n",
    "        if (self.glaseado):\n",
    "            print(f'Soy una torta de {self.sabor} glaseada')\n",
    "        else:\n",
    "            print(f'Soy una torta de {self.sabor} sin glaseado')"
   ]
  },
  {
   "cell_type": "code",
   "execution_count": null,
   "metadata": {},
   "outputs": [],
   "source": [
    "m=Torta()"
   ]
  },
  {
   "cell_type": "code",
   "execution_count": null,
   "metadata": {},
   "outputs": [],
   "source": [
    "class Torta():\n",
    "    glaseado = False\n",
    "    \n",
    "    def __init__(self,sabor=None,color=None):\n",
    "        self.sabor = sabor\n",
    "        self.color = color\n",
    "        if sabor is not None and color is not None:\n",
    "            print(f'Se creó una torta de {sabor} {color}.')\n",
    "        else: \n",
    "            print(f'Se creó una torta de vainilla')\n",
    "            \n",
    "    def glasear(self):\n",
    "        self.glaseado = True\n",
    "      \n",
    "    def esta_glaseada(self):\n",
    "        if (self.glaseado):\n",
    "            print(f'Soy una torta de {self.sabor} glaseada')\n",
    "        else:\n",
    "            print(f'Soy una torta de {self.sabor} sin glaseado')"
   ]
  },
  {
   "cell_type": "code",
   "execution_count": null,
   "metadata": {},
   "outputs": [],
   "source": [
    "m=Torta()"
   ]
  },
  {
   "cell_type": "code",
   "execution_count": null,
   "metadata": {},
   "outputs": [],
   "source": []
  }
 ],
 "metadata": {
  "kernelspec": {
   "display_name": "Python 3",
   "language": "python",
   "name": "python3"
  },
  "language_info": {
   "codemirror_mode": {
    "name": "ipython",
    "version": 3
   },
   "file_extension": ".py",
   "mimetype": "text/x-python",
   "name": "python",
   "nbconvert_exporter": "python",
   "pygments_lexer": "ipython3",
   "version": "3.7.6"
  }
 },
 "nbformat": 4,
 "nbformat_minor": 4
}
