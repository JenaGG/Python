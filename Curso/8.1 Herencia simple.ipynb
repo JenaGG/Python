{
 "cells": [
  {
   "cell_type": "markdown",
   "metadata": {},
   "source": [
    "<font color=Green>\n",
    "    \n",
    "# **8.1 Herencia simple**\n",
    "\n",
    "</font>"
   ]
  },
  {
   "cell_type": "code",
   "execution_count": null,
   "metadata": {},
   "outputs": [],
   "source": [
    "class Producto:\n",
    "    def __init__(self, ref, nombre, pvp,  descripcion, \n",
    "                 marca=None, categoria=None, talla=None):\n",
    "        self.ref = ref\n",
    "        self.nombre = nombre\n",
    "        self.pvp = pvp\n",
    "        self.descripcion = descripcion\n",
    "        self.marca= marca\n",
    "        self.categoria= categoria\n",
    "        self.talla= talla\n",
    "        \n",
    "combo_1 = Producto('70010','Combo 1',150,'Harina de maíz (1Kg), Carne de res (2Kg), Detergente para ropa (500g)') \n",
    "\n",
    "print(combo_1)\n",
    "print(combo_1.descripcion)  "
   ]
  },
  {
   "cell_type": "markdown",
   "metadata": {},
   "source": [
    "<font color=#003d5c>\n",
    "\n",
    "## _Superclases y subclases_\n",
    "</font>   "
   ]
  },
  {
   "cell_type": "markdown",
   "metadata": {},
   "source": [
    "### Debemos identificar una superclase que contendrá todos los atributos comunes\n",
    "### A la superclase la llamaremos Producto"
   ]
  },
  {
   "cell_type": "code",
   "execution_count": null,
   "metadata": {},
   "outputs": [],
   "source": [
    "class Producto:\n",
    "    def __init__(self, ref, nombre, pvp,  descripcion):\n",
    "        self.ref = ref\n",
    "        self.nombre = nombre\n",
    "        self.pvp = pvp\n",
    "        self.descripcion = descripcion\n",
    "                \n",
    "    def __str__(self):\n",
    "        return f\"Referencia:\\t {self.ref}\\n\" \\\n",
    "               f\"Nombre:\\t\\t {self.nombre}\\n\" \\\n",
    "               f\"PVP:\\t\\t {self.pvp}\\n\" \\\n",
    "               f\"Descripción:\\t {self.descripcion}\\n\"\n"
   ]
  },
  {
   "cell_type": "markdown",
   "metadata": {},
   "source": [
    "### A partir del tipo de producto, vamos a definir subclases: _Combo, Ropa, Alimentos_"
   ]
  },
  {
   "cell_type": "code",
   "execution_count": null,
   "metadata": {},
   "outputs": [],
   "source": [
    "class Combo(Producto):\n",
    "    pass"
   ]
  },
  {
   "cell_type": "code",
   "execution_count": null,
   "metadata": {},
   "outputs": [],
   "source": [
    "c_1 = Combo('70010','Combo 1',150,'Harina de maíz (1Kg), Carne de res (2Kg), Detergente para ropa (500g)')"
   ]
  },
  {
   "cell_type": "code",
   "execution_count": null,
   "metadata": {
    "scrolled": true
   },
   "outputs": [],
   "source": [
    "print(c_1)"
   ]
  },
  {
   "cell_type": "code",
   "execution_count": null,
   "metadata": {},
   "outputs": [],
   "source": [
    "class Alimento(Producto):\n",
    "    marca = \"\"\n",
    "    categoria = \"\"\n",
    "\n",
    "    def __str__(self):\n",
    "            return f\"Referencia:\\t {self.ref}\\n\" \\\n",
    "                   f\"Nombre:\\t\\t {self.nombre}\\n\" \\\n",
    "                   f\"PVP:\\t\\t {self.pvp}\\n\" \\\n",
    "                   f\"Descripción:\\t {self.descripcion}\\n\" \\\n",
    "                   f\"Marca:\\t\\t {self.marca} \\n\" \\\n",
    "                   f\"Categoria:\\t {self.categoria}\\n\""
   ]
  },
  {
   "cell_type": "code",
   "execution_count": null,
   "metadata": {},
   "outputs": [],
   "source": [
    "harina = Alimento(10001, \"Harina de Maíz\", 0.9, \"Harina precocida (1kg)\")\n"
   ]
  },
  {
   "cell_type": "code",
   "execution_count": null,
   "metadata": {},
   "outputs": [],
   "source": [
    "print(harina)"
   ]
  },
  {
   "cell_type": "code",
   "execution_count": null,
   "metadata": {},
   "outputs": [],
   "source": [
    "harina.marca = \"Nestlé\"\n",
    "harina.categoria = \"Cereales\""
   ]
  },
  {
   "cell_type": "code",
   "execution_count": null,
   "metadata": {},
   "outputs": [],
   "source": [
    "print(harina)"
   ]
  },
  {
   "cell_type": "code",
   "execution_count": null,
   "metadata": {},
   "outputs": [],
   "source": [
    "class Ropa(Producto):\n",
    "    marca = \"\"\n",
    "    categoria = \"\"\n",
    "    talla = \"\"\n",
    "    \n",
    "    def __str__(self):\n",
    "            return f\"Referencia:\\t {self.ref}\\n\" \\\n",
    "                   f\"Nombre:\\t\\t {self.nombre}\\n\" \\\n",
    "                   f\"PVP:\\t\\t {self.pvp}\\n\" \\\n",
    "                   f\"Descripción:\\t {self.descripcion}\\n\" \\\n",
    "                   f\"Marca:\\t\\t {self.marca}\\n\" \\\n",
    "                   f\"Categoria:\\t {self.categoria}\\n\" \\\n",
    "                   f\"Talla:\\t\\t {self.talla}\\n\"\n"
   ]
  },
  {
   "cell_type": "code",
   "execution_count": null,
   "metadata": {},
   "outputs": [],
   "source": [
    "pantalon= Ropa(\"20001\", \"Pantalón\", 4.7,\"Stretch Color rojo\")\n",
    "pantalon.marca=\"Levi's\"\n",
    "pantalon.categoria=\"Dama\"\n",
    "pantalon.talla=30\n",
    "print(pantalon)"
   ]
  }
 ],
 "metadata": {
  "kernelspec": {
   "display_name": "Python 3",
   "language": "python",
   "name": "python3"
  },
  "language_info": {
   "codemirror_mode": {
    "name": "ipython",
    "version": 3
   },
   "file_extension": ".py",
   "mimetype": "text/x-python",
   "name": "python",
   "nbconvert_exporter": "python",
   "pygments_lexer": "ipython3",
   "version": "3.7.6"
  }
 },
 "nbformat": 4,
 "nbformat_minor": 4
}
