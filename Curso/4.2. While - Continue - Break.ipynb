{
 "cells": [
  {
   "cell_type": "markdown",
   "metadata": {},
   "source": [
    "<font color=Green>\n",
    "    \n",
    "# **4.2 Bucle _While_**\n",
    "\n",
    "</font>\n",
    "\n",
    "### Un bucle es una secuencia que ejecuta reiteradas veces una acción hasta que la condición asignada al bucle deja de cumplirse. Cada nueva ejecución de la secuencia se denomina iteración.\n",
    "\n",
    "### La sentencia While (Mientras) repite las operaciones dentro de un bloque _mientras_ la condición lógica que evalúa es _True_ (Verdadera).\n",
    "\n",
    "### El programador debe planificar un momento en que la condición es False y el bucle se detiene. De otra forma se vuelve un bucle infinito."
   ]
  },
  {
   "cell_type": "code",
   "execution_count": 1,
   "metadata": {},
   "outputs": [
    {
     "name": "stdout",
     "output_type": "stream",
     "text": [
      "Contador vale  1\n",
      "Contador vale  2\n",
      "Contador vale  3\n",
      "Contador vale  4\n",
      "Contador vale  5\n",
      "Contador vale  6\n"
     ]
    }
   ],
   "source": [
    "contador = 0\n",
    "\n",
    "while contador <= 5:\n",
    "    contador += 1\n",
    "    print(\"Contador vale \", contador)"
   ]
  },
  {
   "cell_type": "code",
   "execution_count": 2,
   "metadata": {},
   "outputs": [
    {
     "name": "stdout",
     "output_type": "stream",
     "text": [
      "Contador vale  0\n",
      "Contador vale  1\n",
      "Contador vale  2\n",
      "Contador vale  3\n",
      "Contador vale  4\n",
      "Contador vale  5\n",
      "Se realizaron 6 iteraciones\n"
     ]
    }
   ],
   "source": [
    "c = 0\n",
    "\n",
    "while c <= 5:\n",
    "    print(\"Contador vale \", c)\n",
    "    c += 1\n",
    "else: \n",
    "    print(\"Se realizaron {} iteraciones\".format(c))"
   ]
  },
  {
   "cell_type": "markdown",
   "metadata": {},
   "source": [
    "<font color=#003d5c>\n",
    "    \n",
    "## _BREAK_\n",
    "</font>\n",
    "\n",
    "### Con este comando detenemos el bucle en cualquier momento."
   ]
  },
  {
   "cell_type": "code",
   "execution_count": 4,
   "metadata": {},
   "outputs": [
    {
     "name": "stdout",
     "output_type": "stream",
     "text": [
      "Contador vale  1\n",
      "Contador vale  2\n",
      "Contador vale  3\n",
      "Rompemos el bucle cuando contador vale  4\n"
     ]
    }
   ],
   "source": [
    "contador_1 = 0\n",
    "\n",
    "while contador_1 <= 5:\n",
    "    contador_1 += 1\n",
    "    if contador_1 == 4:\n",
    "        print(\"Rompemos el bucle cuando contador vale \", contador_1)\n",
    "        break\n",
    "    print(\"Contador vale \", contador_1)\n",
    "else: \n",
    "    print(\"Se realizaron {} iteraciones\".format(contador_1))"
   ]
  },
  {
   "cell_type": "markdown",
   "metadata": {},
   "source": [
    "<font color=#003d5c>\n",
    "    \n",
    "## _CONTINUE_\n",
    "</font>\n",
    "\n",
    "### Con este comando saltamos a la siguiente iteración sin romper el bucle"
   ]
  },
  {
   "cell_type": "code",
   "execution_count": 5,
   "metadata": {},
   "outputs": [
    {
     "name": "stdout",
     "output_type": "stream",
     "text": [
      "C vale  1\n",
      "C vale  2\n",
      "C vale  3\n",
      "Ya que C vale 4 Saltamos esta iteración \n",
      " y continuamos con la siguiente\n",
      "C vale  5\n",
      "C vale  6\n",
      "Se realizaron 6 iteraciones\n"
     ]
    }
   ],
   "source": [
    "c = 0\n",
    "\n",
    "while c <= 5:\n",
    "    c += 1\n",
    "    if c == 4:\n",
    "        print(\"Ya que C vale {} Saltamos esta iteración \\n y continuamos con la siguiente\".format(c))\n",
    "        continue \n",
    "    print(\"C vale \", c)\n",
    "else: \n",
    "    print(\"Se realizaron {} iteraciones\".format(c))"
   ]
  },
  {
   "cell_type": "code",
   "execution_count": 6,
   "metadata": {},
   "outputs": [
    {
     "name": "stdout",
     "output_type": "stream",
     "text": [
      "Bienvenido!\n",
      "\n",
      "¿Qué quieres hacer? Ingresa una opción\n",
      "    (1) Saludar\n",
      "    (2) Sumar dos números\n",
      "    (3) Salir1\n",
      "\n",
      " Barrabás le manda muchos saludos! \n",
      "\n",
      "\n",
      "¿Qué quieres hacer? Ingresa una opción\n",
      "    (1) Saludar\n",
      "    (2) Sumar dos números\n",
      "    (3) Salir2\n",
      "Ingresa el primer número: \n",
      "15\n",
      "Ingresa el segundo número: \n",
      "10\n",
      "\n",
      " El resultado de la suma es 25.0\n",
      "\n",
      "¿Qué quieres hacer? Ingresa una opción\n",
      "    (1) Saludar\n",
      "    (2) Sumar dos números\n",
      "    (3) Salirerta\n",
      "\n",
      " No hay manera, socio. Intenta de nuevo \n",
      "\n",
      "¿Qué quieres hacer? Ingresa una opción\n",
      "    (1) Saludar\n",
      "    (2) Sumar dos números\n",
      "    (3) Salir444\n",
      "\n",
      " No hay manera, socio. Intenta de nuevo \n",
      "\n",
      "¿Qué quieres hacer? Ingresa una opción\n",
      "    (1) Saludar\n",
      "    (2) Sumar dos números\n",
      "    (3) Salir3\n",
      "\n",
      " Dios me lo bendiga, licenciado\n"
     ]
    }
   ],
   "source": [
    "# Menú de usuario \n",
    "print(\"Bienvenido!\")\n",
    "      \n",
    "while (True):\n",
    "    opcion = input(\"\"\"\\n¿Qué quieres hacer? Ingresa una opción\n",
    "    (1) Saludar\n",
    "    (2) Sumar dos números\n",
    "    (3) Salir\"\"\")\n",
    "    if opcion == '1' :\n",
    "          print (\"\\n Barrabás le manda muchos saludos! \\n\")\n",
    "    elif opcion == '2' :\n",
    "          n_1 = float(input(\"Ingresa el primer número: \\n\"))\n",
    "          n_2 = float(input(\"Ingresa el segundo número: \\n\"))\n",
    "          print(\"\\n El resultado de la suma es {}\".format(n_1+n_2))\n",
    "    elif opcion == '3' :\n",
    "        print(\"\\n Dios me lo bendiga, licenciado\")\n",
    "        break\n",
    "    else:\n",
    "        print (\"\\n No hay manera, socio. Intenta de nuevo \")"
   ]
  },
  {
   "cell_type": "code",
   "execution_count": null,
   "metadata": {},
   "outputs": [],
   "source": []
  }
 ],
 "metadata": {
  "kernelspec": {
   "display_name": "Python 3",
   "language": "python",
   "name": "python3"
  },
  "language_info": {
   "codemirror_mode": {
    "name": "ipython",
    "version": 3
   },
   "file_extension": ".py",
   "mimetype": "text/x-python",
   "name": "python",
   "nbconvert_exporter": "python",
   "pygments_lexer": "ipython3",
   "version": "3.7.6"
  }
 },
 "nbformat": 4,
 "nbformat_minor": 4
}
