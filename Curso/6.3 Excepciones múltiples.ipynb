{
 "cells": [
  {
   "cell_type": "markdown",
   "metadata": {},
   "source": [
    "<font color=Green>\n",
    "    \n",
    "# **6.3 Excepciones múltiples**\n",
    "\n",
    "</font>\n",
    "\n",
    "### En el mismo bloque de código pueden surgir distintos tipos de errores y suele ser conveniente actuar de manera particular para cada error.\n",
    "### Se recomienda asignar la excepción a una variable, así podemos analizar el tipo de error que sucede por su identificador."
   ]
  },
  {
   "cell_type": "code",
   "execution_count": null,
   "metadata": {},
   "outputs": [],
   "source": [
    "try:\n",
    "    num = int(input(\"Ingresa un número: \"))\n",
    "    print('9 / {} = {}'.format(num,9/num))\n",
    "except Exception as e:\n",
    "    print(\"Ocurrió el siguiente error: \", type(e).__name__)"
   ]
  },
  {
   "cell_type": "code",
   "execution_count": null,
   "metadata": {},
   "outputs": [],
   "source": [
    "print(type(1).__name__)\n",
    "print(type(3.14).__name__)\n",
    "print(type([]).__name__)\n",
    "print(type(()).__name__)\n",
    "print(type({}).__name__)"
   ]
  },
  {
   "cell_type": "code",
   "execution_count": null,
   "metadata": {},
   "outputs": [],
   "source": [
    "try:\n",
    "    num = int(input(\"Ingresa un número: \"))\n",
    "    print('9 / {} = {}'.format(num,9/num))\n",
    "except ValueError:\n",
    "    print(\"No se puede dividir 9 entre un texto\")\n",
    "except ZeroDivisionError:\n",
    "    print(\"No se puede dividir entre cero. Intenta de nuevo\")\n",
    "except Exception as e:\n",
    "    print(\"Ocurrió el siguiente error: \", type(e).__name__ )"
   ]
  },
  {
   "cell_type": "code",
   "execution_count": null,
   "metadata": {},
   "outputs": [],
   "source": []
  },
  {
   "cell_type": "code",
   "execution_count": null,
   "metadata": {},
   "outputs": [],
   "source": []
  }
 ],
 "metadata": {
  "kernelspec": {
   "display_name": "Python 3",
   "language": "python",
   "name": "python3"
  },
  "language_info": {
   "codemirror_mode": {
    "name": "ipython",
    "version": 3
   },
   "file_extension": ".py",
   "mimetype": "text/x-python",
   "name": "python",
   "nbconvert_exporter": "python",
   "pygments_lexer": "ipython3",
   "version": "3.7.6"
  }
 },
 "nbformat": 4,
 "nbformat_minor": 4
}
