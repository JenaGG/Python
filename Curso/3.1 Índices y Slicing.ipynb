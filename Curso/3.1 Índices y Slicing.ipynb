{
 "cells": [
  {
   "cell_type": "markdown",
   "metadata": {},
   "source": [
    "<font color=Green>\n",
    "    \n",
    "# **3.1 Índices y slicing**\n",
    "\n",
    "</font>\n",
    "\n",
    "###   Los índices son números ordenados asociados a las variables que nos permiten identificar los elementos por su posición.\n",
    "\n",
    "### Por ejemplo, cada elemento de una cadena tiene su índice."
   ]
  },
  {
   "cell_type": "code",
   "execution_count": null,
   "metadata": {},
   "outputs": [],
   "source": [
    "texto = 'ESTA-CADENA'"
   ]
  },
  {
   "cell_type": "markdown",
   "metadata": {},
   "source": [
    "### El primer elemento siempre tiene el índice 0 porque con este número inicia la numeración.\n"
   ]
  },
  {
   "cell_type": "code",
   "execution_count": null,
   "metadata": {},
   "outputs": [],
   "source": [
    "print(texto[0], texto[1], texto[2], texto[3])"
   ]
  },
  {
   "cell_type": "markdown",
   "metadata": {},
   "source": [
    "### También a causa de esto, el índice del último elemento se diferencia del número total de elementos por una unidad.\n",
    "\n",
    "> _[ texto[0], texto[1], ... texto[ n-3 ], texto[ n-2 ], texto[ n-1 ] ]_"
   ]
  },
  {
   "cell_type": "code",
   "execution_count": null,
   "metadata": {},
   "outputs": [],
   "source": [
    "print(texto[5], texto[6], texto[7], texto[8], texto[9], texto[10])"
   ]
  },
  {
   "cell_type": "markdown",
   "metadata": {},
   "source": [
    "### Para cada elemento también existe un índice inverso que realiza una numeración desde el último elemento hasta el primero, empezando la cuenta con -1."
   ]
  },
  {
   "cell_type": "code",
   "execution_count": null,
   "metadata": {},
   "outputs": [],
   "source": [
    "#    -6 \\ -5 \\ -4 \\ -3 \\ -2 \\ -1\n",
    "#     C    A    D    E    N    A\n",
    "#     5 /  6 /  7 /  8 /  9 /  10\n",
    "\n",
    "print(texto[-6], texto[-5], texto[-4], texto[-3], texto[-2], texto[-1])"
   ]
  },
  {
   "cell_type": "markdown",
   "metadata": {},
   "source": [
    "<font color=#003d5c>     \n",
    "## _Slicing_\n",
    "</font>\n",
    "\n",
    "###  Gracias a los índices podemos seleccionar una secuencia de elementos de una variable. Esto se conoce como slicing\n",
    "\n",
    "### La secuencia de elementos la definimos con el formato _[ a : b ]_ . Esto es un rango de valores, y el slicing va a devolvernos desde el elemento _a_ hasta el elemento previo al _b_, así que vamos a decir que b está excluido del rango.\n",
    "\n",
    "> __PROTIP__ : Cuando un rango de valores excluye alguno de sus límites (Siendo _a_ el límite inferior, y _b_ el límite superior), se dice que el rango es abierto: \\\n",
    ">--->_Abierto por la derecha_ , si excluye a _b_ \\\n",
    ">--->_Abierto por la izquierda_ , si excluye a _a_"
   ]
  },
  {
   "cell_type": "code",
   "execution_count": null,
   "metadata": {},
   "outputs": [],
   "source": [
    "texto[0:4]"
   ]
  },
  {
   "cell_type": "code",
   "execution_count": null,
   "metadata": {},
   "outputs": [],
   "source": [
    "texto[-6:-1]"
   ]
  },
  {
   "cell_type": "markdown",
   "metadata": {},
   "source": [
    "### Podemos omitir especificar alguno de los límites:\n",
    "+ Si omitimos a [: b], empezará la secuencia desde el índice 0. (Equivale a escribir [ 0 : b ] )\n",
    "+ Si omitimos b [a :], terminará la secuencia con el último elemento. (Equivale a escribir [ a : (n-1) ] )"
   ]
  },
  {
   "cell_type": "code",
   "execution_count": null,
   "metadata": {},
   "outputs": [],
   "source": [
    "texto[-6:-1]"
   ]
  },
  {
   "cell_type": "code",
   "execution_count": null,
   "metadata": {},
   "outputs": [],
   "source": [
    "texto[-6:]"
   ]
  },
  {
   "cell_type": "code",
   "execution_count": null,
   "metadata": {},
   "outputs": [],
   "source": [
    "texto[:4]"
   ]
  },
  {
   "cell_type": "code",
   "execution_count": null,
   "metadata": {},
   "outputs": [],
   "source": [
    "texto[3:7]"
   ]
  },
  {
   "cell_type": "code",
   "execution_count": null,
   "metadata": {},
   "outputs": [],
   "source": []
  }
 ],
 "metadata": {
  "kernelspec": {
   "display_name": "Python 3",
   "language": "python",
   "name": "python3"
  },
  "language_info": {
   "codemirror_mode": {
    "name": "ipython",
    "version": 3
   },
   "file_extension": ".py",
   "mimetype": "text/x-python",
   "name": "python",
   "nbconvert_exporter": "python",
   "pygments_lexer": "ipython3",
   "version": "3.7.6"
  }
 },
 "nbformat": 4,
 "nbformat_minor": 4
}
