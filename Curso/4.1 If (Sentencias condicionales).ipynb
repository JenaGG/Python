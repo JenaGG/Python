{
 "cells": [
  {
   "cell_type": "markdown",
   "metadata": {},
   "source": [
    "<font color=Green>\n",
    "    \n",
    "# **4.1 If / Else / Elif: Sentencias condicionales**\n",
    "\n",
    "</font>\n",
    "\n",
    "### En Python existen las sentencias condicionales _if, else, elif (else if)_ que nos permiten dividir el flujo de un programa en diferentes caminos.\n",
    "\n",
    "### Para hacer esto definimos un bloque de instrucciones que se ejecutarán solo si la condición previa se cumple (es verdadera)."
   ]
  },
  {
   "cell_type": "code",
   "execution_count": null,
   "metadata": {},
   "outputs": [],
   "source": [
    "if (True):\n",
    "    print(\"Hey\")"
   ]
  },
  {
   "cell_type": "code",
   "execution_count": null,
   "metadata": {},
   "outputs": [],
   "source": [
    "if (False):\n",
    "    print(\"Hey\")"
   ]
  },
  {
   "cell_type": "code",
   "execution_count": null,
   "metadata": {},
   "outputs": [],
   "source": [
    "x = 6\n",
    "\n",
    "if x == 6:\n",
    "    print(\"X vale 6\")\n"
   ]
  },
  {
   "cell_type": "code",
   "execution_count": null,
   "metadata": {},
   "outputs": [],
   "source": [
    "if x == 2:\n",
    "    print(\"X vale 2\")\n",
    "if x == 6:\n",
    "    print(\"X vale 6\")"
   ]
  },
  {
   "cell_type": "markdown",
   "metadata": {},
   "source": [
    "### Podemos escribir varios if anidados respetando la identación"
   ]
  },
  {
   "cell_type": "code",
   "execution_count": null,
   "metadata": {},
   "outputs": [],
   "source": [
    "a = 10\n",
    "b = 5\n",
    "if a == 10:\n",
    "    print(\"A vale {}\".format(a))\n",
    "    if b == 5:\n",
    "        print(\"B vale {}\".format(b))"
   ]
  },
  {
   "cell_type": "markdown",
   "metadata": {},
   "source": [
    "### También podemos incluir en estas sentencias operadores lógicos para aumentar su eficiencia y legibilidad.    "
   ]
  },
  {
   "cell_type": "code",
   "execution_count": null,
   "metadata": {},
   "outputs": [],
   "source": [
    "if a==10 and b==5:\n",
    "    print(\"A vale {}, y b vale {}\".format(a,b))\n"
   ]
  },
  {
   "cell_type": "markdown",
   "metadata": {},
   "source": [
    "<font color=#003d5c>\n",
    "    \n",
    "## _Else y Elif_\n",
    "</font>\n",
    "\n",
    "### _Else_ (si no) se encadena al final del bloque para abrir una nueva lista de instrucciones.\n",
    "### Este comando nos permite definir el camino que se ejecuta si la condición original no se cumple.\n",
    "### _Elif_ (si no, si) establece un nueva condición que se encadena a otro _if_ o _elif_ cuya condición resultó _False_ (no se cumplió) .\n",
    "### Esto nos permite establecer múltiples condiciones para lidiar con los múltiples posibles entradas que el programa puede recibir."
   ]
  },
  {
   "cell_type": "code",
   "execution_count": null,
   "metadata": {},
   "outputs": [],
   "source": [
    "z = 14\n",
    "if z % 2 == 0:\n",
    "    print(z, \"es un número par\")\n",
    "else:\n",
    "    print(z, \"Es un número impar\")"
   ]
  },
  {
   "cell_type": "code",
   "execution_count": null,
   "metadata": {},
   "outputs": [],
   "source": [
    "# Respuestas dinámicas\n",
    "texto = input(\"¿Qué desea hacer?\\n  \")\n",
    "if texto == 'SALUDAR':\n",
    "    print('Muy buenas noches')\n",
    "elif texto == 'RETIRARSE':\n",
    "    print('Ok. Nos vemos luego')\n",
    "else:\n",
    "    print('Ingrese una entrada válida')\n"
   ]
  },
  {
   "cell_type": "code",
   "execution_count": null,
   "metadata": {},
   "outputs": [],
   "source": [
    "# Clasificador\n",
    "puntaje = float(input(\"Introduce la calificación: \\n\"))\n",
    "if puntaje >= 9:\n",
    "    print('Excelente desempeño')\n",
    "elif puntaje >=7:\n",
    "    print('Buen desempeño')\n",
    "elif puntaje >=5:\n",
    "    print('Aprobado')\n",
    "else:\n",
    "    print('Reprobado')\n"
   ]
  },
  {
   "cell_type": "code",
   "execution_count": null,
   "metadata": {},
   "outputs": [],
   "source": []
  }
 ],
 "metadata": {
  "kernelspec": {
   "display_name": "Python 3",
   "language": "python",
   "name": "python3"
  },
  "language_info": {
   "codemirror_mode": {
    "name": "ipython",
    "version": 3
   },
   "file_extension": ".py",
   "mimetype": "text/x-python",
   "name": "python",
   "nbconvert_exporter": "python",
   "pygments_lexer": "ipython3",
   "version": "3.7.6"
  }
 },
 "nbformat": 4,
 "nbformat_minor": 4
}
