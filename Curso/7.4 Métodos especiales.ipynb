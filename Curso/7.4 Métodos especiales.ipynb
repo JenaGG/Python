{
 "cells": [
  {
   "cell_type": "markdown",
   "metadata": {},
   "source": [
    "<font color=Green>\n",
    "    \n",
    "# **7.4 Métodos especiales**\n",
    "\n",
    "</font>\n"
   ]
  },
  {
   "cell_type": "markdown",
   "metadata": {},
   "source": [
    "<font color=#003d5c>\n",
    "\n",
    "## El constructor de clase\n",
    "</font> "
   ]
  },
  {
   "cell_type": "code",
   "execution_count": null,
   "metadata": {},
   "outputs": [],
   "source": [
    "class Video():\n",
    "    \n",
    "    # Constructor de clase\n",
    "    def __init__(self,titulo,duracion,lanzamiento):\n",
    "        self.titulo = titulo\n",
    "        self.duracion = duracion\n",
    "        self.lanzamiento = lanzamiento\n",
    "        print('Se creo el video', self.titulo)\n",
    "        \n",
    "v=Video('The Avengers',143,2012)"
   ]
  },
  {
   "cell_type": "markdown",
   "metadata": {},
   "source": [
    "<font color=#003d5c>\n",
    "\n",
    "## El destructor de clase\n",
    "</font> "
   ]
  },
  {
   "cell_type": "code",
   "execution_count": null,
   "metadata": {},
   "outputs": [],
   "source": [
    "class Video():\n",
    "  \n",
    "    def __init__(self,titulo,duracion,lanzamiento):\n",
    "        self.titulo = titulo\n",
    "        self.duracion = duracion\n",
    "        self.lanzamiento = lanzamiento\n",
    "        print('Se creo el video', self.titulo)\n",
    "     \n",
    "    # Destructor de clase\n",
    "    def __del__(self):\n",
    "        print('Se eliminó el video', self.titulo)\n",
    "        \n",
    "v=Video('The Avengers',143,2012)"
   ]
  },
  {
   "cell_type": "code",
   "execution_count": null,
   "metadata": {},
   "outputs": [],
   "source": [
    "del(v)"
   ]
  },
  {
   "cell_type": "markdown",
   "metadata": {},
   "source": [
    "<font color=#003d5c>\n",
    "\n",
    "## Métodos str() y len()\n",
    "</font> "
   ]
  },
  {
   "cell_type": "code",
   "execution_count": null,
   "metadata": {},
   "outputs": [],
   "source": [
    "v=Video('The Avengers',143,2012)"
   ]
  },
  {
   "cell_type": "code",
   "execution_count": null,
   "metadata": {},
   "outputs": [],
   "source": [
    "str(v)"
   ]
  },
  {
   "cell_type": "code",
   "execution_count": null,
   "metadata": {},
   "outputs": [],
   "source": [
    "class Video():\n",
    "    def __init__(self,titulo,duracion,lanzamiento):\n",
    "        self.titulo = titulo\n",
    "        self.duracion = duracion\n",
    "        self.lanzamiento = lanzamiento\n",
    "        print('Se creo el video', self.titulo)\n",
    "     \n",
    "    def __del__(self):\n",
    "        print('Se eliminó el video', self.titulo)\n",
    "    \n",
    "    # Redefinimos str para que muestre la información del video\n",
    "    def __str__(self):\n",
    "        return f\"{self.titulo} publicado en {self.lanzamiento} con una duración de {self.duracion} minutos\"\n",
    "        \n",
    "c=Video(\"Black Panther\", 134,2018)"
   ]
  },
  {
   "cell_type": "code",
   "execution_count": null,
   "metadata": {},
   "outputs": [],
   "source": [
    "str(c)"
   ]
  },
  {
   "cell_type": "code",
   "execution_count": null,
   "metadata": {},
   "outputs": [],
   "source": [
    "len(c)"
   ]
  },
  {
   "cell_type": "code",
   "execution_count": null,
   "metadata": {
    "scrolled": true
   },
   "outputs": [],
   "source": [
    "class Video():\n",
    "    def __init__(self,titulo,duracion,lanzamiento):\n",
    "        self.titulo = titulo\n",
    "        self.duracion = duracion\n",
    "        self.lanzamiento = lanzamiento\n",
    "        print('Se creo el video', self.titulo)\n",
    "    \n",
    "    def __str__(self):\n",
    "        return f\"{self.titulo} publicado en {self.lanzamiento} con una duración de {self.duracion} minutos\"\n",
    "        \n",
    "    # Redefinimos el método len() para que devuelva la duración del video\n",
    "    def __len__(self):\n",
    "        return self.duracion\n",
    "    \n",
    "    def __del__(self):\n",
    "        print('Se eliminó el video', self.titulo)"
   ]
  },
  {
   "cell_type": "code",
   "execution_count": null,
   "metadata": {},
   "outputs": [],
   "source": [
    "v=Video('The Avengers',143,2012)\n",
    "        \n",
    "c=Video(\"Black Panther\",134,2018)"
   ]
  },
  {
   "cell_type": "code",
   "execution_count": null,
   "metadata": {},
   "outputs": [],
   "source": [
    "str(v)"
   ]
  },
  {
   "cell_type": "code",
   "execution_count": null,
   "metadata": {},
   "outputs": [],
   "source": [
    "len(v)"
   ]
  },
  {
   "cell_type": "code",
   "execution_count": null,
   "metadata": {},
   "outputs": [],
   "source": [
    "len(c)"
   ]
  },
  {
   "cell_type": "code",
   "execution_count": null,
   "metadata": {},
   "outputs": [],
   "source": []
  }
 ],
 "metadata": {
  "kernelspec": {
   "display_name": "Python 3",
   "language": "python",
   "name": "python3"
  },
  "language_info": {
   "codemirror_mode": {
    "name": "ipython",
    "version": 3
   },
   "file_extension": ".py",
   "mimetype": "text/x-python",
   "name": "python",
   "nbconvert_exporter": "python",
   "pygments_lexer": "ipython3",
   "version": "3.7.6"
  }
 },
 "nbformat": 4,
 "nbformat_minor": 4
}
