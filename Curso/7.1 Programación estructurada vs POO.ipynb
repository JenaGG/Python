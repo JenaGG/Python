{
 "cells": [
  {
   "cell_type": "markdown",
   "metadata": {},
   "source": [
    "<font color=Green>\n",
    "    \n",
    "# **7.1 Programación Orientada a Objetos**\n",
    "\n",
    "</font>\n",
    "\n",
    "### Para entender las diferencias entre los dos paradigmas de programación, trabajemos un ejemplo donde se nos pide la creación de un registro para manejar el inventario de un negocio. \n",
    "### Debe incluir:\n",
    "+ Código identificador del producto\n",
    "+ Nombre del producto \n",
    "+ Categoría del producto\n",
    "+ PVP\n",
    "\n",
    "### El programa debe permitirnos mostrar o borrar los datos de cada producto a partir del Código identificador"
   ]
  },
  {
   "cell_type": "markdown",
   "metadata": {},
   "source": [
    "<font color=#003d5c>\n",
    "\n",
    "## Solución del problema con Programación Estructurada --->\n",
    "</font> "
   ]
  },
  {
   "cell_type": "code",
   "execution_count": null,
   "metadata": {},
   "outputs": [],
   "source": [
    "productos = [\n",
    "    {'cod':'10001', 'Nombre':'Jabón Harmony', 'Categoría':'Higiene personal', 'pvp':0.9},\n",
    "    {'cod':'10002', 'Nombre':'Cereal Nestlé', 'Categoría':'Cereal', 'pvp':1.5},\n",
    "    {'cod':'10003', 'Nombre':'Limones', 'Categoría':'Fruta', 'pvp':.7}\n",
    "]"
   ]
  },
  {
   "cell_type": "code",
   "execution_count": null,
   "metadata": {},
   "outputs": [],
   "source": [
    "productos[0]"
   ]
  },
  {
   "cell_type": "code",
   "execution_count": null,
   "metadata": {},
   "outputs": [],
   "source": [
    "def mostrar_producto(productos, cod):\n",
    "    for p in productos:\n",
    "        if (cod == p['cod']):\n",
    "                    return print('{} {}'.format(p['Nombre'],p['pvp']))\n",
    "    print('Producto no encontrado')"
   ]
  },
  {
   "cell_type": "code",
   "execution_count": null,
   "metadata": {
    "scrolled": true
   },
   "outputs": [],
   "source": [
    "mostrar_producto(productos,'10003')"
   ]
  },
  {
   "cell_type": "code",
   "execution_count": null,
   "metadata": {},
   "outputs": [],
   "source": [
    "mostrar_producto(productos,'111')"
   ]
  },
  {
   "cell_type": "code",
   "execution_count": null,
   "metadata": {},
   "outputs": [],
   "source": [
    "def borrar_producto(productos, cod):\n",
    "    for i,p in enumerate(productos):\n",
    "        if (cod == p['cod']):\n",
    "            del(productos[i])\n",
    "            return print(str(p),\">ELIMINADO\")\n",
    "    print('Producto no encontrado')"
   ]
  },
  {
   "cell_type": "code",
   "execution_count": null,
   "metadata": {},
   "outputs": [],
   "source": [
    "borrar_producto(productos,'10003')"
   ]
  },
  {
   "cell_type": "code",
   "execution_count": null,
   "metadata": {},
   "outputs": [],
   "source": [
    "mostrar_producto(productos,'10003')"
   ]
  },
  {
   "cell_type": "code",
   "execution_count": null,
   "metadata": {},
   "outputs": [],
   "source": [
    "print(\"==CATÁLOGO DE PRODUCTOS==\")\n",
    "print(productos)\n",
    "\n",
    "print(\"\\n==MOSTRAR PRODUCTOS POR COD==\")\n",
    "mostrar_producto(productos,'10001')\n",
    "mostrar_producto(productos,'10002')\n",
    "\n",
    "print(\"\\n==BORRAR PRODUCTOS POR COD==\")\n",
    "borrar_producto(productos, '10001')\n",
    "borrar_producto(productos, '10002')\n",
    "\n",
    "print(\"\\n==CATÁLOGO DE PRODUCTOS==\")\n",
    "print(productos)"
   ]
  },
  {
   "cell_type": "markdown",
   "metadata": {},
   "source": [
    "<font color=#003d5c>\n",
    "\n",
    "## Solución del problema con Programación Orientada a Objetos --->\n",
    "</font> "
   ]
  },
  {
   "cell_type": "code",
   "execution_count": null,
   "metadata": {},
   "outputs": [],
   "source": [
    "# Se crea una estructura para los productos\n",
    "\n",
    "class Producto:\n",
    "\n",
    "    def __init__(self,cod,nombre,categoria,pvp):\n",
    "        self.cod = cod\n",
    "        self.nombre = nombre\n",
    "        self.categoria = categoria\n",
    "        self.pvp = pvp\n",
    "\n",
    "    def __str__(self):\n",
    "        return '{} {}'.format(self.nombre,self.pvp)\n",
    "\n",
    "# Y otra estructura para el negocio\n",
    "class Negocio:\n",
    "\n",
    "    def __init__(self, productos=[]):\n",
    "        self.productos = productos\n",
    "\n",
    "    def mostrar_producto(self, cod=None):\n",
    "        for p in self.productos:\n",
    "            if p.cod == cod:\n",
    "                print(p)\n",
    "                return\n",
    "        print(\"Producto no encontrado\")\n",
    "\n",
    "    def borrar_producto(self, cod=None):\n",
    "        for i,p in enumerate(self.productos):\n",
    "            if p.cod == cod:\n",
    "                del(self.productos[i])\n",
    "                print(str(p),\"> ELIMINADO\")\n",
    "                return\n",
    "        print(\"Producto no encontrado\")\n"
   ]
  },
  {
   "cell_type": "code",
   "execution_count": null,
   "metadata": {},
   "outputs": [],
   "source": [
    "limones = Producto(nombre=\"Limones\", cod=\"10010\", categoria=\"Frutas\",pvp=0.8)\n",
    "platos = Producto(\"10020\", \"Platos Alpina\", \"Vajilla\", 2.4)"
   ]
  },
  {
   "cell_type": "code",
   "execution_count": null,
   "metadata": {},
   "outputs": [],
   "source": [
    "limones"
   ]
  },
  {
   "cell_type": "code",
   "execution_count": null,
   "metadata": {},
   "outputs": [],
   "source": [
    "platos"
   ]
  },
  {
   "cell_type": "code",
   "execution_count": null,
   "metadata": {},
   "outputs": [],
   "source": [
    "str(platos)"
   ]
  },
  {
   "cell_type": "code",
   "execution_count": null,
   "metadata": {},
   "outputs": [],
   "source": [
    "negocio = Negocio(productos=[limones,platos])"
   ]
  },
  {
   "cell_type": "code",
   "execution_count": null,
   "metadata": {},
   "outputs": [],
   "source": [
    "negocio.productos"
   ]
  },
  {
   "cell_type": "code",
   "execution_count": null,
   "metadata": {},
   "outputs": [],
   "source": [
    "# Para mostrar el producto por código\n",
    "\n",
    "negocio.mostrar_producto('10010')"
   ]
  },
  {
   "cell_type": "code",
   "execution_count": null,
   "metadata": {},
   "outputs": [],
   "source": [
    "# Para borrar el productos por código\n",
    "negocio.borrar_producto('10010')"
   ]
  },
  {
   "cell_type": "code",
   "execution_count": null,
   "metadata": {},
   "outputs": [],
   "source": [
    "negocio.mostrar_producto('10010')"
   ]
  },
  {
   "cell_type": "code",
   "execution_count": null,
   "metadata": {},
   "outputs": [],
   "source": []
  }
 ],
 "metadata": {
  "kernelspec": {
   "display_name": "Python 3",
   "language": "python",
   "name": "python3"
  },
  "language_info": {
   "codemirror_mode": {
    "name": "ipython",
    "version": 3
   },
   "file_extension": ".py",
   "mimetype": "text/x-python",
   "name": "python",
   "nbconvert_exporter": "python",
   "pygments_lexer": "ipython3",
   "version": "3.7.6"
  }
 },
 "nbformat": 4,
 "nbformat_minor": 4
}
