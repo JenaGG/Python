{
 "cells": [
  {
   "cell_type": "markdown",
   "metadata": {},
   "source": [
    "<font color=Green>\n",
    "    \n",
    "# **7.5 Objetos dentro de objetos**\n",
    "\n",
    "</font>"
   ]
  },
  {
   "cell_type": "code",
   "execution_count": 1,
   "metadata": {},
   "outputs": [],
   "source": [
    "class Videojuego:\n",
    "\n",
    "    # Constructor de clase\n",
    "    def __init__(self, titulo, genero, lanzamiento):\n",
    "        self.titulo = titulo\n",
    "        self.genero = genero\n",
    "        self.lanzamiento = lanzamiento\n",
    "        print('Se creó el videojuego:', self.titulo)\n",
    "\n",
    "    def __str__(self):\n",
    "        return '{} ({})'.format(self.titulo, self.lanzamiento)"
   ]
  },
  {
   "cell_type": "code",
   "execution_count": 2,
   "metadata": {},
   "outputs": [
    {
     "name": "stdout",
     "output_type": "stream",
     "text": [
      "Se creó el videojuego: The Last of Us\n"
     ]
    },
    {
     "data": {
      "text/plain": [
       "'The Last of Us (2013)'"
      ]
     },
     "execution_count": 2,
     "metadata": {},
     "output_type": "execute_result"
    }
   ],
   "source": [
    "vj= Videojuego(\"The Last of Us\", \"Acción\", 2013)\n",
    "str(vj)"
   ]
  },
  {
   "cell_type": "code",
   "execution_count": 3,
   "metadata": {},
   "outputs": [],
   "source": [
    "class Catalogo:\n",
    "\n",
    "    vjuegos = []  # Esta lista contendrá objetos de la clase Videojuego\n",
    "\n",
    "    def __init__(self, vjuegos=[]):\n",
    "        self.vjuegos = vjuegos\n",
    "\n",
    "    def agregar(self, v):  # v será un objeto de clase Videojuego\n",
    "        self.vjuegos.append(v)\n",
    "\n",
    "    def mostrar(self):\n",
    "        for v in self.vjuegos:\n",
    "            print(v)  # Print toma por defecto str(v)"
   ]
  },
  {
   "cell_type": "code",
   "execution_count": 4,
   "metadata": {},
   "outputs": [
    {
     "name": "stdout",
     "output_type": "stream",
     "text": [
      "Se creó el videojuego: The Last of Us Part II\n"
     ]
    }
   ],
   "source": [
    "vi = Videojuego(\"The Last of Us Part II\", \"Acción\", 2020)"
   ]
  },
  {
   "cell_type": "code",
   "execution_count": 5,
   "metadata": {},
   "outputs": [],
   "source": [
    "c = Catalogo([vj,vi])"
   ]
  },
  {
   "cell_type": "code",
   "execution_count": 6,
   "metadata": {},
   "outputs": [
    {
     "name": "stdout",
     "output_type": "stream",
     "text": [
      "The Last of Us (2013)\n",
      "The Last of Us Part II (2020)\n"
     ]
    }
   ],
   "source": [
    "c.mostrar()"
   ]
  },
  {
   "cell_type": "code",
   "execution_count": 7,
   "metadata": {},
   "outputs": [
    {
     "name": "stdout",
     "output_type": "stream",
     "text": [
      "Se creó el videojuego: Pokémon\n"
     ]
    }
   ],
   "source": [
    "c.agregar(Videojuego(\"Pokémon\", \"RPG\", 1996))"
   ]
  },
  {
   "cell_type": "code",
   "execution_count": 8,
   "metadata": {},
   "outputs": [
    {
     "name": "stdout",
     "output_type": "stream",
     "text": [
      "The Last of Us (2013)\n",
      "The Last of Us Part II (2020)\n",
      "Pokémon (1996)\n"
     ]
    }
   ],
   "source": [
    "c.mostrar()"
   ]
  },
  {
   "cell_type": "code",
   "execution_count": null,
   "metadata": {},
   "outputs": [],
   "source": []
  }
 ],
 "metadata": {
  "kernelspec": {
   "display_name": "Python 3",
   "language": "python",
   "name": "python3"
  },
  "language_info": {
   "codemirror_mode": {
    "name": "ipython",
    "version": 3
   },
   "file_extension": ".py",
   "mimetype": "text/x-python",
   "name": "python",
   "nbconvert_exporter": "python",
   "pygments_lexer": "ipython3",
   "version": "3.7.6"
  }
 },
 "nbformat": 4,
 "nbformat_minor": 4
}
